{
 "cells": [
  {
   "cell_type": "markdown",
   "metadata": {},
   "source": [
    "# Apresentação das classes"
   ]
  },
  {
   "cell_type": "markdown",
   "metadata": {},
   "source": [
    "## Produto"
   ]
  },
  {
   "cell_type": "code",
   "execution_count": 13,
   "metadata": {},
   "outputs": [],
   "source": [
    "class Produto:\n",
    "    def __init__(self, nome, id_interno, id_parceiro, id_categ, id_extern, caract, descr):\n",
    "        \"\"\"\n",
    "        Construtor da classe\n",
    "\n",
    "        :param nome: Identificação interna para o produto        \n",
    "        :param id_interno: Identificação interna para o produto\n",
    "        :param id_parceiro: Identificação interna do parceiro \n",
    "        :param id_categ: Identificação da categoria\n",
    "        :param id_extern: Identificação externa do produto\n",
    "        :param caract: Dicionário de características do produto\n",
    "        :param descr: Descrição do produto\n",
    "        \"\"\"\n",
    "        self.nome       = nome\n",
    "        self.id_interno = id_interno\n",
    "        self.id_parc    = id_parceiro\n",
    "        self.categ      = id_categ\n",
    "        self.id_ex      = id_extern\n",
    "        self.caract     = caract\n",
    "        self.descr      = descr\n",
    "        \n",
    "    def __str__(self):\n",
    "        return 'Produto: {self.nome}, ID: {self.id_interno}'\n",
    "        \n",
    "    def internal_id(self):\n",
    "        \"\"\"\n",
    "        Retorna o id do produto na base interna\n",
    "        \"\"\"\n",
    "        \n",
    "        return self.id_itau\n",
    "    \n",
    "    def external_id(self):\n",
    "        \"\"\"\n",
    "        Retorna o id do produto da base externa\n",
    "        \"\"\"\n",
    "        return self.id_ex\n",
    "    \n",
    "    def carac(self):\n",
    "        \"\"\"\n",
    "        Retorna o dicionário de características\n",
    "        \"\"\"\n",
    "        return self.caract\n",
    "    \n",
    "    def category(self):\n",
    "        \"\"\"\n",
    "        Retorna a categoria na qual o produto pertence\n",
    "        \"\"\"\n",
    "        return self.categ\n",
    "    \n",
    "    def description(self):\n",
    "        \"\"\"\n",
    "        Retorna a descrição do produto\n",
    "        \"\"\"\n",
    "        return self.descr\n",
    "    \n",
    "    def from_partner(self):\n",
    "        return self.id_parc\n",
    "    \n",
    "    "
   ]
  },
  {
   "cell_type": "markdown",
   "metadata": {},
   "source": [
    "### Exemplos "
   ]
  },
  {
   "cell_type": "markdown",
   "metadata": {},
   "source": [
    "Agora exemplificando com um produto válido, por exemplo, o seguro de vida Super Vida da Empresa A, um serviço de streaming\n",
    "da empresa B e um serviço de comida da Empresa C.\n",
    "Estes demonstram apenas a funcionalidade da generalização da estrutura. Poderemos ver que independente da estrutura do produto, conseguimos encaixá-lo no modelo."
   ]
  },
  {
   "cell_type": "code",
   "execution_count": 2,
   "metadata": {},
   "outputs": [],
   "source": [
    "# As características na forma de dicionário\n",
    "c_a = {'Item segurado': 'Pessoa', 'Tipo de pessoa': 'Física', 'Processo SUSEP': '12121.21212/121.12', 'Idade': 24}\n",
    "# Descrição do produto\n",
    "d_a = 'Seguro de vida para toda a família'"
   ]
  },
  {
   "cell_type": "markdown",
   "metadata": {},
   "source": [
    "O produto que criaremos da Empresa A possui suas características, na forma de dicionário. Em Python, o dicionário pode conter valores de diversos tipos."
   ]
  },
  {
   "cell_type": "code",
   "execution_count": 3,
   "metadata": {},
   "outputs": [],
   "source": [
    "# Criando o objeto produto para a empresa A\n",
    "super_vida = Produto('Super Vida', 0, 0, 0, 15, c_a, d_a)"
   ]
  },
  {
   "cell_type": "code",
   "execution_count": 5,
   "metadata": {},
   "outputs": [],
   "source": [
    "# Para a segunda e terceira empresa parceira\n",
    "c_b = {'Número de telas simultâneas': 4, 'Acesso móvel': True, 'Definição': 'HD'}\n",
    "c_c = {'Tipo de chocolate': 'Amargo', 'Tipo de bebida': 'Refrigerante', 'Serviço de Garçom': True}\n",
    "\n",
    "d_b = 'Para assistir a qualquer lugar e a qualquer momento'\n",
    "d_c = 'Comida boa'"
   ]
  },
  {
   "cell_type": "code",
   "execution_count": 6,
   "metadata": {},
   "outputs": [],
   "source": [
    "# Criando os produtos\n",
    "basic_video = Produto('Basic Video', 1, 1, 1, 12, c_b, d_b)\n",
    "pacote_festas = Produto('Pacote de Festas', 2, 2, 2, 90, c_c, d_c)"
   ]
  },
  {
   "cell_type": "markdown",
   "metadata": {},
   "source": [
    "#### Portanto,   \n",
    "foi possível construir a estrutura desses produtos independente de sua natureza. A utilização de dicionários facilita \n",
    "quando necessitamos de diversos valores e chaves diferentes, fora isso, podemos recuperar as informações de forma simples.    \n",
    "  Agora, vejamos a situação em que a nossa chave do dicionário, tem como valor um outro dicionário:"
   ]
  },
  {
   "cell_type": "code",
   "execution_count": 7,
   "metadata": {},
   "outputs": [],
   "source": [
    "tipo = {'Produto': 'Individual', 'Família': 'Vida Grupo', 'Negócio': 'Certificado', \n",
    "        'Participação Pessoa Impressão': 'Cliente'}"
   ]
  },
  {
   "cell_type": "code",
   "execution_count": 9,
   "metadata": {},
   "outputs": [
    {
     "data": {
      "text/plain": [
       "{'Idade': 24,\n",
       " 'Item segurado': 'Pessoa',\n",
       " 'Processo SUSEP': '12121.21212/121.12',\n",
       " 'Tipo': {'Família': 'Vida Grupo',\n",
       "  'Negócio': 'Certificado',\n",
       "  'Participação Pessoa Impressão': 'Cliente',\n",
       "  'Produto': 'Individual'},\n",
       " 'Tipo de pessoa': 'Física'}"
      ]
     },
     "execution_count": 9,
     "metadata": {},
     "output_type": "execute_result"
    }
   ],
   "source": [
    "c_a['Tipo'] = tipo\n",
    "c_a"
   ]
  },
  {
   "cell_type": "markdown",
   "metadata": {},
   "source": [
    "**Facilmente adicionamos um dicionário encadeado ao outro, mantendo, da mesma forma, a facilidade de acesso. Dando um reload no produto:**"
   ]
  },
  {
   "cell_type": "code",
   "execution_count": 15,
   "metadata": {},
   "outputs": [],
   "source": [
    "super_vida = Produto('Super Vida', 0, 0, 0, 15, c_a, d_a)"
   ]
  },
  {
   "cell_type": "code",
   "execution_count": 31,
   "metadata": {},
   "outputs": [
    {
     "name": "stdout",
     "output_type": "stream",
     "text": [
      "Caracteristicas do produto Super Vida: \n",
      "\n",
      "Chave: Item segurado , Valor:  Pessoa\n",
      "Chave: Tipo de pessoa , Valor:  Física\n",
      "Chave: Processo SUSEP , Valor:  12121.21212/121.12\n",
      "Chave: Idade , Valor:  24\n",
      "Chave: Tipo , Valor:  {'Produto': 'Individual', 'Família': 'Vida Grupo', 'Negócio': 'Certificado', 'Participação Pessoa Impressão': 'Cliente'}\n",
      "\n",
      "Obtendo a idade, por exemplo, do solicitante:  24\n",
      "\n",
      "Obtendo a família dentro de Tipo, por exemplo, do solicitante:  Vida Grupo\n"
     ]
    }
   ],
   "source": [
    "super_caract = super_vida.carac()\n",
    "print('Caracteristicas do produto Super Vida: \\n')\n",
    "for key, value in super_caract.items():\n",
    "    print('Chave:', key, ', Valor: ', value)\n",
    "\n",
    "print('\\nObtendo a idade, por exemplo, do solicitante: ', super_caract['Idade'])\n",
    "print('\\nObtendo a família dentro de Tipo, por exemplo, do solicitante: ', super_caract['Tipo']['Família'])"
   ]
  },
  {
   "cell_type": "code",
   "execution_count": null,
   "metadata": {},
   "outputs": [],
   "source": []
  }
 ],
 "metadata": {
  "kernelspec": {
   "display_name": "Python 3",
   "language": "python",
   "name": "python3"
  },
  "language_info": {
   "codemirror_mode": {
    "name": "ipython",
    "version": 3
   },
   "file_extension": ".py",
   "mimetype": "text/x-python",
   "name": "python",
   "nbconvert_exporter": "python",
   "pygments_lexer": "ipython3",
   "version": "3.6.4"
  }
 },
 "nbformat": 4,
 "nbformat_minor": 2
}
