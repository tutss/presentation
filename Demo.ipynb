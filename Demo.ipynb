{
 "cells": [
  {
   "cell_type": "markdown",
   "metadata": {},
   "source": [
    "# Apresentação das classes"
   ]
  },
  {
   "cell_type": "markdown",
   "metadata": {},
   "source": [
    "Breve explicação:\n",
    "    - assert's são como em Java\n",
    "    - Python omite tipos\n",
    "    - dicionários podem possuir valores de diferentes tipos (chaves também)\n",
    "    - self diz respeito ao objeto (como this em Java)\n",
    "    - todo método da classe deve instanciar self"
   ]
  },
  {
   "cell_type": "markdown",
   "metadata": {},
   "source": [
    "## Produto"
   ]
  },
  {
   "cell_type": "code",
   "execution_count": 39,
   "metadata": {},
   "outputs": [],
   "source": [
    "class Produto:\n",
    "    def __init__(self, nome, id_interno, id_parceiro, id_categ, id_extern, caract, descr):\n",
    "        \"\"\"\n",
    "        Construtor da classe\n",
    "\n",
    "        :param nome: Identificação interna para o produto        \n",
    "        :param id_interno: Identificação interna para o produto\n",
    "        :param id_parceiro: Identificação interna do parceiro \n",
    "        :param id_categ: Identificação da categoria\n",
    "        :param id_extern: Identificação externa do produto\n",
    "        :param caract: Dicionário de características do produto\n",
    "        :param descr: Descrição do produto\n",
    "        \"\"\"\n",
    "        assert type(nome) == str, 'deve ser uma string'\n",
    "        assert (type(id_interno) == int) and (type(id_parceiro) == int), 'deve ser um int' \n",
    "        assert (type(id_categ) == int) and (type(id_extern) == int), 'deve ser um int'\n",
    "        assert type(caract) == dict or type(caract) == list, 'deve ser uma lista ou dicionário'\n",
    "        assert type(descr) == str, 'deve ser uma string'\n",
    "        self.nome       = nome\n",
    "        self.id_interno = id_interno\n",
    "        self.id_parc    = id_parceiro\n",
    "        self.categ      = id_categ\n",
    "        self.id_ex      = id_extern\n",
    "        self.caract     = caract\n",
    "        self.descr      = descr\n",
    "        \n",
    "    def __str__(self):\n",
    "        return 'Produto: {self.nome}, ID: {self.id_interno}'.format(self=self)\n",
    "        \n",
    "    def internal_id(self):\n",
    "        \"\"\"\n",
    "        Retorna o id do produto na base interna\n",
    "        \"\"\"\n",
    "        return self.id_interno\n",
    "    \n",
    "    def external_id(self):\n",
    "        \"\"\"\n",
    "        Retorna o id do produto da base externa\n",
    "        \"\"\"\n",
    "        return self.id_ex\n",
    "    \n",
    "    def carac(self):\n",
    "        \"\"\"\n",
    "        Retorna o dicionário de características\n",
    "        \"\"\"\n",
    "        return self.caract\n",
    "    \n",
    "    def category(self):\n",
    "        \"\"\"\n",
    "        Retorna a categoria na qual o produto pertence\n",
    "        \"\"\"\n",
    "        return self.categ\n",
    "    \n",
    "    def description(self):\n",
    "        \"\"\"\n",
    "        Retorna a descrição do produto\n",
    "        \"\"\"\n",
    "        return self.descr\n",
    "    \n",
    "    def from_partner(self):\n",
    "        \"\"\"\n",
    "        Retorna o id do parceiro\n",
    "        \"\"\"\n",
    "        return self.id_parc\n",
    "    \n",
    "    def atributtes(self):\n",
    "        return {'nome': self.nome, 'id': self.id_interno, 'parceiro': self.id_parc,\n",
    "               'id_categoria': self.categ, 'id_produto_externo': id_externo, 'caracteristicas': self.caract,\n",
    "               'descrição': self.descr}"
   ]
  },
  {
   "cell_type": "markdown",
   "metadata": {},
   "source": [
    "### Exemplos "
   ]
  },
  {
   "cell_type": "markdown",
   "metadata": {},
   "source": [
    "Agora exemplificando com um produto válido, por exemplo, o seguro de vida Super Vida da Empresa A, um serviço de streaming\n",
    "da empresa B e um serviço de comida da Empresa C.\n",
    "Estes demonstram apenas a funcionalidade da generalização da estrutura. Poderemos ver que independente da estrutura do produto, conseguimos encaixá-lo no modelo."
   ]
  },
  {
   "cell_type": "code",
   "execution_count": 26,
   "metadata": {},
   "outputs": [],
   "source": [
    "# As características na forma de dicionário\n",
    "c_a = {'Item segurado': 'Pessoa', 'Tipo de pessoa': 'Física', 'Processo SUSEP': '12121.21212/121.12', 'Idade': 24}\n",
    "# Descrição do produto\n",
    "d_a = 'Seguro de vida para toda a família'"
   ]
  },
  {
   "cell_type": "markdown",
   "metadata": {},
   "source": [
    "O produto que criaremos da Empresa A possui suas características, na forma de dicionário. Em Python, o dicionário pode conter valores de diversos tipos."
   ]
  },
  {
   "cell_type": "code",
   "execution_count": 27,
   "metadata": {},
   "outputs": [],
   "source": [
    "# Criando o objeto produto para a empresa A\n",
    "super_vida = Produto('Super Vida', 0, 0, 0, 15, c_a, d_a)\n"
   ]
  },
  {
   "cell_type": "code",
   "execution_count": 28,
   "metadata": {},
   "outputs": [],
   "source": [
    "# Para a segunda e terceira empresa parceira\n",
    "c_b = {'Número de telas simultâneas': 4, 'Acesso móvel': True, 'Definição': 'HD'}\n",
    "c_c = {'Tipo de chocolate': 'Amargo', 'Tipo de bebida': 'Refrigerante', 'Serviço de Garçom': True}\n",
    "\n",
    "d_b = 'Para assistir a qualquer lugar e a qualquer momento'\n",
    "d_c = 'Comida boa'"
   ]
  },
  {
   "cell_type": "code",
   "execution_count": 29,
   "metadata": {},
   "outputs": [],
   "source": [
    "# Criando os produtos\n",
    "basic_video = Produto('Basic Video', 1, 1, 1, 12, c_b, d_b)\n",
    "pacote_festas = Produto('Pacote de Festas', 2, 2, 2, 90, c_c, d_c)"
   ]
  },
  {
   "cell_type": "markdown",
   "metadata": {},
   "source": [
    "#### Portanto,   \n",
    "foi possível construir a estrutura desses produtos independente de sua natureza. A utilização de dicionários facilita \n",
    "quando necessitamos de diversos valores e chaves diferentes, fora isso, podemos recuperar as informações de forma simples.    \n",
    "  Agora, vejamos a situação em que a nossa chave do dicionário, tem como valor um outro dicionário:"
   ]
  },
  {
   "cell_type": "code",
   "execution_count": 30,
   "metadata": {},
   "outputs": [],
   "source": [
    "tipo = {'Produto': 'Individual', 'Família': 'Vida Grupo', 'Negócio': 'Certificado', \n",
    "        'Participação Pessoa Impressão': 'Cliente'}"
   ]
  },
  {
   "cell_type": "code",
   "execution_count": 31,
   "metadata": {},
   "outputs": [
    {
     "data": {
      "text/plain": [
       "{'Idade': 24,\n",
       " 'Item segurado': 'Pessoa',\n",
       " 'Processo SUSEP': '12121.21212/121.12',\n",
       " 'Tipo': {'Família': 'Vida Grupo',\n",
       "  'Negócio': 'Certificado',\n",
       "  'Participação Pessoa Impressão': 'Cliente',\n",
       "  'Produto': 'Individual'},\n",
       " 'Tipo de pessoa': 'Física'}"
      ]
     },
     "execution_count": 31,
     "metadata": {},
     "output_type": "execute_result"
    }
   ],
   "source": [
    "c_a['Tipo'] = tipo\n",
    "c_a"
   ]
  },
  {
   "cell_type": "markdown",
   "metadata": {},
   "source": [
    "**Facilmente adicionamos um dicionário encadeado ao outro, mantendo, da mesma forma, a facilidade de acesso. Dando um reload no produto:**"
   ]
  },
  {
   "cell_type": "code",
   "execution_count": 32,
   "metadata": {},
   "outputs": [],
   "source": [
    "super_vida = Produto('Super Vida', 0, 0, 0, 15, c_a, d_a)\n"
   ]
  },
  {
   "cell_type": "code",
   "execution_count": 33,
   "metadata": {},
   "outputs": [
    {
     "name": "stdout",
     "output_type": "stream",
     "text": [
      "Caracteristicas do produto Super Vida: \n",
      "\n",
      "Chave: Item segurado , Valor:  Pessoa\n",
      "Chave: Tipo de pessoa , Valor:  Física\n",
      "Chave: Processo SUSEP , Valor:  12121.21212/121.12\n",
      "Chave: Idade , Valor:  24\n",
      "Chave: Tipo , Valor:  {'Produto': 'Individual', 'Família': 'Vida Grupo', 'Negócio': 'Certificado', 'Participação Pessoa Impressão': 'Cliente'}\n",
      "\n",
      "Obtendo a idade, por exemplo, do solicitante:  24\n",
      "\n",
      "Obtendo a família dentro de Tipo, por exemplo, do solicitante:  Vida Grupo\n"
     ]
    }
   ],
   "source": [
    "super_caract = super_vida.carac()\n",
    "print('Caracteristicas do produto Super Vida: \\n')\n",
    "for key, value in super_caract.items():\n",
    "    print('Chave:', key, ', Valor: ', value)\n",
    "\n",
    "print('\\nObtendo a idade, por exemplo, do solicitante: ', super_caract['Idade'])\n",
    "print('\\nObtendo a família dentro de Tipo, por exemplo, do solicitante: ', super_caract['Tipo']['Família'])"
   ]
  },
  {
   "cell_type": "markdown",
   "metadata": {},
   "source": [
    "Puxando os dados de um arquivo JSON:"
   ]
  },
  {
   "cell_type": "code",
   "execution_count": 34,
   "metadata": {},
   "outputs": [],
   "source": [
    "import json\n",
    "json_file = open('produto.json')\n",
    "json_str = json_file.read()\n",
    "json_data = json.loads(json_str)"
   ]
  },
  {
   "cell_type": "code",
   "execution_count": 35,
   "metadata": {},
   "outputs": [
    {
     "name": "stdout",
     "output_type": "stream",
     "text": [
      "Como desejado, parseamos o JSON como um dicionário, e podemos lidar da mesma forma que como \n",
      "visto anteriormente <class 'dict'>\n",
      "\n",
      "{'data': {'id': 1, 'nome': 'Gold', 'valor': 100.0, 'descricao_resumida': 'Plano odontologico...', 'id_produto_externo': 1, 'codigo_campanha': 'XAB1', 'chave_arquivo_condicoes_gerais': '100XAQ', 'parceiro': {'id': 1, 'nome': 'Empresa A', 'ativo': True}, 'procedimentos': [{'id': 1, 'codigo': 1, 'nome': 'Manutenção de dentadura', 'descricao': 'Limpeza e correção'}, {'id': 2, 'codigo': 2, 'nome': 'Limpeza', 'descricao': 'Limpeza e remoção de tartáro'}], 'ativo': True}}\n"
     ]
    }
   ],
   "source": [
    "print('Como desejado, parseamos o JSON como um dicionário, e podemos lidar da mesma forma que como \\nvisto anteriormente', type(json_data))\n",
    "print()\n",
    "print(json_data)"
   ]
  },
  {
   "cell_type": "code",
   "execution_count": 56,
   "metadata": {},
   "outputs": [
    {
     "name": "stdout",
     "output_type": "stream",
     "text": [
      "O tipo das características: <class 'dict'>\n",
      "Temos as seguintes características:\n",
      "{'valor': 100.0, 'codigo_campanha': 'XAB1', 'chave_arquivo_condicoes_gerais': '100XAQ', 'procedimentos': [{'id': 1, 'codigo': 1, 'nome': 'Manutenção de dentadura', 'descricao': 'Limpeza e correção'}, {'id': 2, 'codigo': 2, 'nome': 'Limpeza', 'descricao': 'Limpeza e remoção de tartáro'}], 'ativo': True}\n",
      "\n",
      "Agora criamos o produto!\n"
     ]
    }
   ],
   "source": [
    "# Criando um produto com os dados do JSON\n",
    "dados = json_data['data']\n",
    "id_in = dados['id']\n",
    "id_ext = dados['id_produto_externo']\n",
    "nome = dados['nome']\n",
    "des = dados['descricao_resumida']\n",
    "id_parc = dados['parceiro']['id']\n",
    "\n",
    "atributos_basicos = ['id', 'id_produto_externo', 'nome', 'descricao_resumida', 'parceiro']\n",
    "dicio = []\n",
    "for elem in dados:\n",
    "    if (not (elem in atributos_basicos)):\n",
    "        dicio.append(elem)\n",
    "\n",
    "car = {}\n",
    "for i in range(len(dicio)):\n",
    "    k = dicio[i]\n",
    "    v = dados[dicio[i]]\n",
    "    car.update({k: v})\n",
    "\n",
    "# A Categoria seria algo já implementado(hardcoded)\n",
    "cat = 2\n",
    "print('O tipo das características:', type(car))\n",
    "print('Temos as seguintes características:')\n",
    "print(car)\n",
    "print()\n",
    "print('Agora criamos o produto!')\n",
    "gold = Produto(nome, id_in, id_parc, cat, id_ext, car, des)"
   ]
  },
  {
   "cell_type": "code",
   "execution_count": 13,
   "metadata": {},
   "outputs": [
    {
     "name": "stdout",
     "output_type": "stream",
     "text": [
      "Produto: Gold, ID: 1\n"
     ]
    }
   ],
   "source": [
    "print(gold)"
   ]
  },
  {
   "cell_type": "markdown",
   "metadata": {},
   "source": [
    "### Conclusão\n",
    "A solução apresentada funciona para o problema de generalização e utiliza da estrutura de chave e valor."
   ]
  },
  {
   "cell_type": "markdown",
   "metadata": {},
   "source": [
    "## Parceiro"
   ]
  },
  {
   "cell_type": "code",
   "execution_count": 22,
   "metadata": {},
   "outputs": [],
   "source": [
    "class Parceiro:\n",
    "    \n",
    "    def __init__(self, id_parc, products, descr):\n",
    "        \"\"\"\n",
    "        Construtor do objeto\n",
    "        :param id_parc: Identificação do parceiro\n",
    "        :param products: Lista de produtos do parceiro\n",
    "        :param descr: Descrição do parceiro\n",
    "        \"\"\"\n",
    "        assert type(id_parc) == int, 'deve ser um int'\n",
    "        assert type(products) == list, 'deve ser uma lista'\n",
    "        assert type(descr) == str, 'deve ser uma string'\n",
    "        elem_0 = products[0]\n",
    "        for i in range(1, len(products)):\n",
    "            if (elem_0.from_partner() != products[i].from_partner()):\n",
    "                raise ValueError('Produtos de parceiros diferentes')\n",
    "            else:\n",
    "                elem_0 = products[i]\n",
    "        self.id    = id_parc\n",
    "        self.prod  = products\n",
    "        self.descr = descr\n",
    "        \n",
    "    def internal_id(self):\n",
    "        \"\"\"\n",
    "        Retorna o id do parceiro\n",
    "        \"\"\"\n",
    "        return self.id\n",
    "    \n",
    "    def products(self):\n",
    "        \"\"\"\n",
    "        Retorna os produtos relacionados ao parceiro\n",
    "        \"\"\"\n",
    "        return self.prod\n",
    "    \n",
    "    def description(self):\n",
    "        \"\"\"\n",
    "        Retorna a descrição do parceiro\n",
    "        \"\"\"\n",
    "        return self.descr\n",
    "    \n",
    "    def add_prod(self, new_prod):\n",
    "        \"\"\"\n",
    "        Adiciona um produto a um parceiro\n",
    "        \"\"\"\n",
    "        n = new_prod.internal_id()\n",
    "        assert self.id == n, 'deve ser do mesmo parceiro'\n",
    "        self.prod.append(new_prod)\n",
    "    "
   ]
  },
  {
   "cell_type": "markdown",
   "metadata": {},
   "source": [
    "A nossa classe Parceiro, assim como a de produto, é bem simples. Possui os atributos de quais são os produtos do parceiro,  \n",
    "uma descrição e uma identificação."
   ]
  },
  {
   "cell_type": "markdown",
   "metadata": {},
   "source": [
    "Iremos verificar algumas funcionalidades. Primeiro, iremos criar uma lista de Produtos:"
   ]
  },
  {
   "cell_type": "code",
   "execution_count": 15,
   "metadata": {},
   "outputs": [],
   "source": [
    "# As características na forma de dicionário\n",
    "c_1 = {'Item segurado': 'Pessoa', 'Tipo de pessoa': 'Física', 'Processo SUSEP': '12121.21212/121.12', 'Idade': 24}\n",
    "# Descrição do produto\n",
    "d_1 = 'Seguro de vida para toda a família'\n",
    "super_vida = Produto('Super Vida', 0, 0, 0, 15, c_1, d_1)\n"
   ]
  },
  {
   "cell_type": "code",
   "execution_count": 16,
   "metadata": {},
   "outputs": [],
   "source": [
    "c_2 = {'Item segurado': 'Pessoa', 'Tipo de pessoa': 'Física', 'Processo SUSEP': '12345.12345/123.12', 'Idade': 26}\n",
    "d_2 = 'Seguro de vida para você'\n",
    "ultra_vida = Produto('Ultra Vida', 4, 0, 0, 16, c_2, d_2)"
   ]
  },
  {
   "cell_type": "code",
   "execution_count": 17,
   "metadata": {},
   "outputs": [],
   "source": [
    "c_3 = {'Item segurado': 'Pessoa', 'Tipo de pessoa': 'Física', 'Processo SUSEP': '33333.33333/333.33', 'Idade': 33}\n",
    "d_3 = 'Seguro de vida para nós'\n",
    "nos_vida = Produto('Nós Vida', 4, 0, 0, 16, c_3, d_3)"
   ]
  },
  {
   "cell_type": "markdown",
   "metadata": {},
   "source": [
    "Iremos criar um objeto Parceiro, com seus respectivos produtos:"
   ]
  },
  {
   "cell_type": "code",
   "execution_count": 18,
   "metadata": {},
   "outputs": [],
   "source": [
    "prod_a = [super_vida, ultra_vida, nos_vida]\n",
    "des_a = 'Empresa de Seguros de Vida'\n",
    "empresa_a = Parceiro(0, prod_a, des_a)\n"
   ]
  },
  {
   "cell_type": "markdown",
   "metadata": {},
   "source": [
    "Iterando sobre os produtos da empresa:"
   ]
  },
  {
   "cell_type": "code",
   "execution_count": 19,
   "metadata": {},
   "outputs": [
    {
     "name": "stdout",
     "output_type": "stream",
     "text": [
      "Produto: Super Vida, ID: 0\n",
      "Produto: Ultra Vida, ID: 4\n",
      "Produto: Nós Vida, ID: 4\n"
     ]
    }
   ],
   "source": [
    "for i in range(len(empresa_a.products())):\n",
    "    print(empresa_a.products()[i])"
   ]
  },
  {
   "cell_type": "markdown",
   "metadata": {},
   "source": [
    "Agora, iremos verificar o caso em que adicionamos o produto da Empresa B na A, e nesse caso, **esperamos um erro**:"
   ]
  },
  {
   "cell_type": "code",
   "execution_count": 20,
   "metadata": {},
   "outputs": [
    {
     "ename": "AssertionError",
     "evalue": "deve ser do mesmo parceiro",
     "output_type": "error",
     "traceback": [
      "\u001b[0;31m---------------------------------------------------------------------------\u001b[0m",
      "\u001b[0;31mAssertionError\u001b[0m                            Traceback (most recent call last)",
      "\u001b[0;32m<ipython-input-20-8047e6c9e80f>\u001b[0m in \u001b[0;36m<module>\u001b[0;34m()\u001b[0m\n\u001b[1;32m      1\u001b[0m \u001b[0mbasic_video\u001b[0m \u001b[0;34m=\u001b[0m \u001b[0mProduto\u001b[0m\u001b[0;34m(\u001b[0m\u001b[0;34m'Basic Video'\u001b[0m\u001b[0;34m,\u001b[0m \u001b[0;36m1\u001b[0m\u001b[0;34m,\u001b[0m \u001b[0;36m1\u001b[0m\u001b[0;34m,\u001b[0m \u001b[0;36m1\u001b[0m\u001b[0;34m,\u001b[0m \u001b[0;36m12\u001b[0m\u001b[0;34m,\u001b[0m \u001b[0mc_b\u001b[0m\u001b[0;34m,\u001b[0m \u001b[0md_b\u001b[0m\u001b[0;34m)\u001b[0m\u001b[0;34m\u001b[0m\u001b[0m\n\u001b[0;32m----> 2\u001b[0;31m \u001b[0mempresa_a\u001b[0m\u001b[0;34m.\u001b[0m\u001b[0madd_prod\u001b[0m\u001b[0;34m(\u001b[0m\u001b[0mbasic_video\u001b[0m\u001b[0;34m)\u001b[0m\u001b[0;34m\u001b[0m\u001b[0m\n\u001b[0m",
      "\u001b[0;32m<ipython-input-14-3028d3aff085>\u001b[0m in \u001b[0;36madd_prod\u001b[0;34m(self, new_prod)\u001b[0m\n\u001b[1;32m     41\u001b[0m     \u001b[0;32mdef\u001b[0m \u001b[0madd_prod\u001b[0m\u001b[0;34m(\u001b[0m\u001b[0mself\u001b[0m\u001b[0;34m,\u001b[0m \u001b[0mnew_prod\u001b[0m\u001b[0;34m)\u001b[0m\u001b[0;34m:\u001b[0m\u001b[0;34m\u001b[0m\u001b[0m\n\u001b[1;32m     42\u001b[0m         \u001b[0mn\u001b[0m \u001b[0;34m=\u001b[0m \u001b[0mnew_prod\u001b[0m\u001b[0;34m.\u001b[0m\u001b[0minternal_id\u001b[0m\u001b[0;34m(\u001b[0m\u001b[0;34m)\u001b[0m\u001b[0;34m\u001b[0m\u001b[0m\n\u001b[0;32m---> 43\u001b[0;31m         \u001b[0;32massert\u001b[0m \u001b[0mself\u001b[0m\u001b[0;34m.\u001b[0m\u001b[0mid\u001b[0m \u001b[0;34m==\u001b[0m \u001b[0mn\u001b[0m\u001b[0;34m,\u001b[0m \u001b[0;34m'deve ser do mesmo parceiro'\u001b[0m\u001b[0;34m\u001b[0m\u001b[0m\n\u001b[0m\u001b[1;32m     44\u001b[0m         \u001b[0mself\u001b[0m\u001b[0;34m.\u001b[0m\u001b[0mprod\u001b[0m\u001b[0;34m.\u001b[0m\u001b[0mappend\u001b[0m\u001b[0;34m(\u001b[0m\u001b[0mnew_prod\u001b[0m\u001b[0;34m)\u001b[0m\u001b[0;34m\u001b[0m\u001b[0m\n\u001b[1;32m     45\u001b[0m \u001b[0;34m\u001b[0m\u001b[0m\n",
      "\u001b[0;31mAssertionError\u001b[0m: deve ser do mesmo parceiro"
     ]
    }
   ],
   "source": [
    "basic_video = Produto('Basic Video', 1, 1, 1, 12, c_b, d_b)\n",
    "empresa_a.add_prod(basic_video)"
   ]
  },
  {
   "cell_type": "markdown",
   "metadata": {},
   "source": [
    "Nossa classe Parceiro irá necessitar de aspectos adicionais de verificação e validação que não serão explicitados no momento,  \n",
    "mas podemos observar que a classe funciona exatamente como o esperado."
   ]
  },
  {
   "cell_type": "markdown",
   "metadata": {},
   "source": [
    "## Categoria"
   ]
  },
  {
   "cell_type": "code",
   "execution_count": 23,
   "metadata": {},
   "outputs": [],
   "source": [
    "class Categoria:\n",
    "    def __init__(self, id_cat, products, desc):\n",
    "        \"\"\"\n",
    "        Construtor do objeto\n",
    "        \"\"\"\n",
    "        assert type(id_cat) == int, 'deve ser um int'\n",
    "        assert type(products) == list, 'deve ser uma lista'\n",
    "        assert type(desc) == str, 'deve ser uma string'\n",
    "        self.id = id_cat\n",
    "        self.prod = products\n",
    "        self.desc = desc\n",
    "        \n",
    "    def internal_id(self):\n",
    "        \"\"\"\n",
    "        Retorna o id da categoria\n",
    "        \"\"\"\n",
    "        return self.id\n",
    "        \n",
    "    def products(self):\n",
    "        \"\"\"\n",
    "        Retorna os produtos da categoria\n",
    "        \"\"\"\n",
    "        return self.prod\n",
    "    \n",
    "    def description(self):\n",
    "        \"\"\"\n",
    "        Retorna a descrição da categoria\n",
    "        \"\"\"\n",
    "        return self.desc\n",
    "    \n",
    "    def add_prod(self, new_prod):\n",
    "        \"\"\"\n",
    "        Adiciona um produto a categoria\n",
    "        \"\"\"\n",
    "        n = prod.category()\n",
    "        assert self.id == n, 'deve ser da mesma categoria'\n",
    "        prod.append(new_prod)"
   ]
  },
  {
   "cell_type": "markdown",
   "metadata": {},
   "source": [
    "Na classe acima, temos a Categoria. Semelhante a parceiro, podemos acessar as identificações e os demais valores  \n",
    "necessários para que os produtos sejam exibidos. A classe Categoria nos permite verificar a que leque os produtos pertencem. Por exemplo, no caso de televisores, existem no mercado diversos tipos de TV, com e sem internet, HD ou não, mas todas não deixam de ser TV's."
   ]
  },
  {
   "cell_type": "markdown",
   "metadata": {},
   "source": [
    "Logo, modelar com base em uma categoria, nos permite entender do que se trata aquele respectivo produto, e com isso, observando o caso do seguro de vida, já saberemos previamente quais elementos deveremos mostrar - com base nas exigências da lei."
   ]
  },
  {
   "cell_type": "markdown",
   "metadata": {},
   "source": [
    "## Conclusão"
   ]
  },
  {
   "cell_type": "markdown",
   "metadata": {},
   "source": [
    "Aqui foi apresentada uma breve solução, que omitiu alguns aspectos que serão posteriormente tratados, mas que de fato, funciona e exerce o proposto: generalizar a entrada do que vem dos parceiros e possibilitar a distribuição para os clientes, dentre os diversos canais de comunicação.  \n",
    "Fatores como a experiência do usuário foram levadas em conta nesta idealização, e preencher um banco de dados com estas informações é algo facilmente atingível."
   ]
  },
  {
   "cell_type": "markdown",
   "metadata": {},
   "source": [
    "Além disto, o link que criamos entre as classes tem a seguinte forma:"
   ]
  },
  {
   "cell_type": "markdown",
   "metadata": {},
   "source": [
    "![Digrafo das classes](output.png)"
   ]
  }
 ],
 "metadata": {
  "kernelspec": {
   "display_name": "Python 3",
   "language": "python",
   "name": "python3"
  },
  "language_info": {
   "codemirror_mode": {
    "name": "ipython",
    "version": 3
   },
   "file_extension": ".py",
   "mimetype": "text/x-python",
   "name": "python",
   "nbconvert_exporter": "python",
   "pygments_lexer": "ipython3",
   "version": "3.6.4"
  }
 },
 "nbformat": 4,
 "nbformat_minor": 2
}
