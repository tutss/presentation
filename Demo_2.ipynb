{
 "cells": [
  {
   "cell_type": "markdown",
   "metadata": {},
   "source": [
    "# Apresentação da classe"
   ]
  },
  {
   "cell_type": "markdown",
   "metadata": {},
   "source": [
    "### Classe de Oferta"
   ]
  },
  {
   "cell_type": "code",
   "execution_count": 10,
   "metadata": {},
   "outputs": [],
   "source": [
    "class Oferta:\n",
    "\n",
    "    def __init__(self, restricao, camada_extra):\n",
    "        \"\"\"\n",
    "        Construtor para classe Oferta\n",
    "        :param restricao: string que representa o segmento do usuário\n",
    "        :param camada_extra: dicionário de parâmetros passados para o parceiro,\n",
    "        recebido de Parâmetros\n",
    "        \"\"\"\n",
    "        self.seg = restricao\n",
    "        self.extra = camada_extra\n",
    "\n",
    "        # Checa os produtos disponíveis para o segmento no qual a oferta pertence\n",
    "        products = self._check_segm(restricao)\n",
    "        self.prod = products\n",
    "        # Propósito de teste\n",
    "#         obj_prod = return_products_for_test()\n",
    "#         self.obj_prod = obj_prod\n",
    "\n",
    "    def __str__(self):\n",
    "        \"\"\"\n",
    "        Forma de impressão\n",
    "        \"\"\"\n",
    "        return 'Oferta do segmento {self.seg}'.format(self=self)\n",
    "\n",
    "    def _check_segm(self, restricao):\n",
    "        \"\"\"\n",
    "        Atribui os produtos disponíveis para o segmento do cliente\n",
    "        \"\"\"\n",
    "        if restricao == 'Uniclass':\n",
    "            uniclass = [i for i in range(4)]\n",
    "            return uniclass\n",
    "        elif restricao == 'Varejo':\n",
    "            varejo = [j for j in range(4)]\n",
    "            return varejo\n",
    "        elif restricao == 'Personnalite':\n",
    "            per = [k for k in range(4)]\n",
    "            return per\n",
    "\n",
    "    def products(self):\n",
    "        \"\"\"\n",
    "        Retorna os produtos daquela Oferta\n",
    "        \"\"\"\n",
    "        return self.prod\n",
    "\n",
    "    def remove_prod(self, id):\n",
    "        \"\"\"\n",
    "        Remove um produto, especificado por ID, daquela Oferta\n",
    "        :param id: ID do produto\n",
    "        \"\"\"\n",
    "        try:\n",
    "            self.remove(id)\n",
    "        except IndexError:\n",
    "            print('Já foi removido')\n",
    "\n",
    "    def add_prod(self, prod):\n",
    "        \"\"\"\n",
    "        Adiciona um produto aquele segmento da oferta\n",
    "        :param prod: id do prod\n",
    "        \"\"\"\n",
    "        self.prod.append(prod)\n",
    "\n",
    "    def which_segm(self):\n",
    "        return self.seg\n",
    "\n",
    "    def which_extras(self):\n",
    "        return self.extra"
   ]
  },
  {
   "cell_type": "markdown",
   "metadata": {},
   "source": [
    "Como vimos anteriormente, a classe funciona apenas como repasse, acessando os valores de uma oferta, com base em paramêtros de entrada."
   ]
  },
  {
   "cell_type": "markdown",
   "metadata": {},
   "source": [
    "Por propósitos de teste, os segmentos serão vetores com os ID's dos seus respectivos produtos, estes que já foram modelados anteriormente, e neles, podemos checar a que parceiro pertencem, sua categoria e etc."
   ]
  },
  {
   "cell_type": "markdown",
   "metadata": {},
   "source": [
    "Agora, iremos simular a seguinte situação: A Empresa A, disponibiliza um Produto X, que é disponibilizado apenas em São Paulo."
   ]
  },
  {
   "cell_type": "markdown",
   "metadata": {},
   "source": [
    "Mas ela oferece outro produto, o Produto Y, que é disponibilizado em São Paulo, no Rio de Janeiro e algumas outras cidades, e leva em conta a idade do usuário."
   ]
  },
  {
   "cell_type": "markdown",
   "metadata": {},
   "source": [
    "Iremos utilizar a classe **Produto**:"
   ]
  },
  {
   "cell_type": "code",
   "execution_count": 2,
   "metadata": {},
   "outputs": [],
   "source": [
    "class Produto:\n",
    "\n",
    "    def __init__(self, nome, id_interno, id_parceiro, id_categ, id_extern, carac, descr):\n",
    "        \"\"\"\n",
    "        Construtor da classe\n",
    "\n",
    "        :param nome: Identificação interna para o produto\n",
    "        :param id_interno: Identificação interna para o produto\n",
    "        :param id_parceiro: Identificação interna do parceiro\n",
    "        :param id_categ: Identificação da categoria\n",
    "        :param id_extern: Identificação externa do produto\n",
    "        :param caract: Dicionário de características do produto\n",
    "        :param descr: Descrição do produto\n",
    "        \"\"\"\n",
    "        # Verificando tipos\n",
    "        assert type(nome) == str, 'deve ser uma string'\n",
    "        assert (type(id_interno) == int) and (type(id_parceiro) == int), 'deve ser um int'\n",
    "        assert (type(id_categ) == int) and (type(id_extern) == int), 'deve ser um int'\n",
    "        assert type(carac) == dict or type(carac) == list, 'deve ser uma lista ou dicionário'\n",
    "        assert type(descr) == str, 'deve ser uma string'\n",
    "\n",
    "        # Devemos verificar: se um produto pertence a um parceiro existente, se a categoria existe,\n",
    "        # e se esse novo produto já não é um produto existente na base.\n",
    "        self.nome = nome\n",
    "        self.id_interno = id_interno\n",
    "        self.id_parc = id_parceiro\n",
    "        self.categ = id_categ\n",
    "        self.id_ex = id_extern\n",
    "        self.caract = carac\n",
    "        self.descr = descr\n",
    "\n",
    "    def __str__(self):\n",
    "        return 'Produto: {self.nome}, ID: {self.id_interno}'.format(self=self)\n",
    "\n",
    "    def internal_id(self):\n",
    "        \"\"\"\n",
    "        Retorna o id do produto na base interna\n",
    "        \"\"\"\n",
    "        return self.id_interno\n",
    "\n",
    "    def external_id(self):\n",
    "        \"\"\"\n",
    "        Retorna o id do produto da base externa\n",
    "        \"\"\"\n",
    "        return self.id_ex\n",
    "\n",
    "    def caracteristicas(self):\n",
    "        \"\"\"\n",
    "        Retorna o dicionário de características\n",
    "        \"\"\"\n",
    "        return self.caract\n",
    "\n",
    "    def category(self):\n",
    "        \"\"\"\n",
    "        Retorna a categoria na qual o produto pertence\n",
    "        \"\"\"\n",
    "        return self.categ\n",
    "\n",
    "    def description(self):\n",
    "        \"\"\"\n",
    "        Retorna a descrição do produto\n",
    "        \"\"\"\n",
    "        return self.descr\n",
    "\n",
    "    def from_partner(self):\n",
    "        \"\"\"\n",
    "        Retorna o id do parceiro\n",
    "        \"\"\"\n",
    "        return self.id_parc\n",
    "\n",
    "    def atributtes(self):\n",
    "        \"\"\"\n",
    "        Retorna os atributos do produto em forma de dicionário\n",
    "        \"\"\"\n",
    "        return {'nome': self.nome, 'id': self.id_interno, 'parceiro': self.id_parc,\n",
    "                'id_categoria': self.categ, 'id_produto_externo': self.id_ex, 'caracteristicas': self.caract,\n",
    "                'descrição': self.descr}"
   ]
  },
  {
   "cell_type": "markdown",
   "metadata": {},
   "source": [
    "Iremos supor as características do Produto X e do Produto Y a seguir:"
   ]
  },
  {
   "cell_type": "code",
   "execution_count": 3,
   "metadata": {},
   "outputs": [],
   "source": [
    "# As características do X mostram que ele está disponível em São Paulo, e tem outras características\n",
    "caracteristicas_x = {'Região': ['São Paulo'], 'Número de telas': 4, 'Definição': '4k'}\n",
    "# Já o Y, está disponível em outras cidades, e também leva em conta a cidade\n",
    "caracteristicas_y = {'Região': ['São Paulo', 'Rio de Janeiro', 'Itu'], 'Número de telas': 4, 'Definição': '1080', 'Idade': 18}"
   ]
  },
  {
   "cell_type": "markdown",
   "metadata": {},
   "source": [
    "Então, o Produto X e Y serão:"
   ]
  },
  {
   "cell_type": "code",
   "execution_count": 4,
   "metadata": {},
   "outputs": [],
   "source": [
    "descr_x = 'Produto X, para ver na melhor definição'\n",
    "descr_y = 'Produto Y, para ver em qualquer lugar'"
   ]
  },
  {
   "cell_type": "code",
   "execution_count": 5,
   "metadata": {},
   "outputs": [],
   "source": [
    "produto_X = Produto('Produto X', 0, 1, 2, 10, caracteristicas_x, descr_x)\n",
    "produto_Y = Produto('Produto Y', 1, 1, 3, 12, caracteristicas_y, descr_y)"
   ]
  },
  {
   "cell_type": "markdown",
   "metadata": {},
   "source": [
    "Criamos estes dois produtos genéricos, e iremos supor que o ID do parceiro um representa a Empresa A. "
   ]
  },
  {
   "cell_type": "markdown",
   "metadata": {},
   "source": [
    "O papel da Oferta é: receber os parâmetros que serão usados para filtragem, que será realizada pelo parceiro. Este, irá retornar os produtos que estão disponíveis."
   ]
  },
  {
   "cell_type": "markdown",
   "metadata": {},
   "source": [
    "Vamos supor que nosso usuário 1 mora em São Paulo e possui 20 anos, o usuário 2 mora no Rio de Janeiro e tem 15 anos e o usuário 3 mora em Salvador e tem 23 anos."
   ]
  },
  {
   "cell_type": "markdown",
   "metadata": {},
   "source": [
    "Iremos ilustrar a chegada dos parâmetros para classe, dentro da Plataforma."
   ]
  },
  {
   "cell_type": "code",
   "execution_count": 8,
   "metadata": {},
   "outputs": [],
   "source": [
    "# Características de cada usuário (ilustração) que são necessárias para disponibilização\n",
    "usuario_1 = {'Região':['São Paulo'], 'Idade': 20}\n",
    "usuario_2 = {'Região':['Rio de Janeiro'], 'Idade': 15}\n",
    "usuario_3 = {'Região':['Salvador'], 'Idade': 23}"
   ]
  },
  {
   "cell_type": "markdown",
   "metadata": {},
   "source": [
    "Como teste, iremos assumir que eles pertencem ao mesmo segmento. A única diferença da realidade para esse teste, seria que a Oferta teria outros produtos dentro do vetor."
   ]
  },
  {
   "cell_type": "code",
   "execution_count": 11,
   "metadata": {},
   "outputs": [],
   "source": [
    "oferta_para_1 = Oferta('Uniclass', usuario_1)\n",
    "oferta_para_2 = Oferta('Uniclass', usuario_2)\n",
    "oferta_para_3 = Oferta('Uniclass', usuario_3)"
   ]
  },
  {
   "cell_type": "markdown",
   "metadata": {},
   "source": [
    "Então, essa seria a Oferta passada para o parceiro, para que este realizasse sua lógica de negócios. E o retorno, seria uma lista com Produtos, na forma padronizada na Demo anterior."
   ]
  }
 ],
 "metadata": {
  "kernelspec": {
   "display_name": "Python 3",
   "language": "python",
   "name": "python3"
  },
  "language_info": {
   "codemirror_mode": {
    "name": "ipython",
    "version": 3
   },
   "file_extension": ".py",
   "mimetype": "text/x-python",
   "name": "python",
   "nbconvert_exporter": "python",
   "pygments_lexer": "ipython3",
   "version": "3.6.4"
  }
 },
 "nbformat": 4,
 "nbformat_minor": 2
}
